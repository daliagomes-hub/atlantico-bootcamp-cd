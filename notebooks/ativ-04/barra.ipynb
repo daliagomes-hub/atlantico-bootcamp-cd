{
 "cells": [
  {
   "cell_type": "code",
   "execution_count": 1,
   "id": "748dd8dc-c2f9-457f-863c-6c2af6ae16f3",
   "metadata": {},
   "outputs": [],
   "source": [
    "import pandas as pd "
   ]
  }
 ],
 "metadata": {
  "kernelspec": {
   "display_name": "Python 3 (ipykernel)",
   "language": "python",
   "name": "python3"
  },
  "language_info": {
   "codemirror_mode": {
    "name": "ipython",
    "version": 3
   },
   "file_extension": ".py",
   "mimetype": "text/x-python",
   "name": "python",
   "nbconvert_exporter": "python",
   "pygments_lexer": "ipython3",
   "version": "3.8.10"
  }
 },
 "nbformat": 4,
 "nbformat_minor": 5
}
